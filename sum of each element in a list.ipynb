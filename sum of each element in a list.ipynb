{
 "cells": [
  {
   "cell_type": "code",
   "execution_count": 2,
   "id": "c69af42b",
   "metadata": {},
   "outputs": [
    {
     "name": "stdout",
     "output_type": "stream",
     "text": [
      "[2, 4, 6, 8, 10]\n"
     ]
    }
   ],
   "source": [
    "num=[1,2,3,4,5]\n",
    "x=[i+i for i in num ]\n",
    "print(x)"
   ]
  },
  {
   "cell_type": "code",
   "execution_count": 7,
   "id": "ddfe119c",
   "metadata": {},
   "outputs": [],
   "source": [
    "x=lambda n:n+n"
   ]
  },
  {
   "cell_type": "code",
   "execution_count": 8,
   "id": "0fa56cf0",
   "metadata": {},
   "outputs": [
    {
     "data": {
      "text/plain": [
       "[1, 2, 3, 4, 5, 1, 2, 3, 4, 5]"
      ]
     },
     "execution_count": 8,
     "metadata": {},
     "output_type": "execute_result"
    }
   ],
   "source": [
    "x([1,2,3,4,5])"
   ]
  },
  {
   "cell_type": "code",
   "execution_count": 10,
   "id": "90478ac7",
   "metadata": {},
   "outputs": [],
   "source": [
    "y=list(map(x,[1,2,3,4,5]))"
   ]
  },
  {
   "cell_type": "code",
   "execution_count": 11,
   "id": "213e7ef1",
   "metadata": {},
   "outputs": [
    {
     "data": {
      "text/plain": [
       "[2, 4, 6, 8, 10]"
      ]
     },
     "execution_count": 11,
     "metadata": {},
     "output_type": "execute_result"
    }
   ],
   "source": [
    "y"
   ]
  },
  {
   "cell_type": "code",
   "execution_count": 15,
   "id": "dc781554",
   "metadata": {},
   "outputs": [
    {
     "name": "stdout",
     "output_type": "stream",
     "text": [
      "15\n"
     ]
    }
   ],
   "source": [
    "a=[1,2,3,4,5]\n",
    "sum=0\n",
    "for i in a:\n",
    "    \n",
    "    sum=sum+i\n",
    "print(sum)"
   ]
  },
  {
   "cell_type": "code",
   "execution_count": 18,
   "id": "82e8094f",
   "metadata": {},
   "outputs": [
    {
     "name": "stdout",
     "output_type": "stream",
     "text": [
      "45\n"
     ]
    }
   ],
   "source": [
    "list1=[12,15,3,10,5]  # list\n",
    "sum1=0                # veriable wirh initialize value 0\n",
    "for i in list1:       # i=12,15,3,10,5\n",
    "    sum1=sum1+i       # sum1=0+12=12,12+15=27,27+3=30,30+10=40,40+5=45\n",
    "print(sum1)          # for last iteration sum1 is 45."
   ]
  },
  {
   "cell_type": "code",
   "execution_count": 27,
   "id": "28ae2aa7",
   "metadata": {},
   "outputs": [
    {
     "data": {
      "text/plain": [
       "30"
      ]
     },
     "execution_count": 27,
     "metadata": {},
     "output_type": "execute_result"
    }
   ],
   "source": [
    "def list1():\n",
    "    x=0\n",
    "    for i in n:\n",
    "        x=x+i\n",
    "        \n",
    "    return x\n",
    "n=[12,15,3]\n",
    "list1()\n"
   ]
  },
  {
   "cell_type": "code",
   "execution_count": 28,
   "id": "0f643fc0",
   "metadata": {},
   "outputs": [],
   "source": [
    "def list2():\n",
    "    x=0\n",
    "    for i in n:\n",
    "        x=x+i\n",
    "        \n",
    "    return x\n",
    "list2()\n",
    "\n"
   ]
  },
  {
   "cell_type": "code",
   "execution_count": null,
   "id": "874f573f",
   "metadata": {},
   "outputs": [],
   "source": []
  }
 ],
 "metadata": {
  "kernelspec": {
   "display_name": "Python 3",
   "language": "python",
   "name": "python3"
  },
  "language_info": {
   "codemirror_mode": {
    "name": "ipython",
    "version": 3
   },
   "file_extension": ".py",
   "mimetype": "text/x-python",
   "name": "python",
   "nbconvert_exporter": "python",
   "pygments_lexer": "ipython3",
   "version": "3.8.8"
  }
 },
 "nbformat": 4,
 "nbformat_minor": 5
}
